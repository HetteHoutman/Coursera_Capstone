{
 "cells": [
  {
   "cell_type": "markdown",
   "metadata": {},
   "source": [
    "# Introduction"
   ]
  },
  {
   "cell_type": "markdown",
   "metadata": {},
   "source": [
    "Although the outbreak of covid-19 has forced many establishments in the hospitality sector out of business, the recent arrival of vaccines has made the sector’s future look a lot more promising – if regulations go back to normal, there could be a rush among entrepreneurs to fill the gaps left behind by the restaurants and cafés that had to shut down due to the pandemic. This report aims to identify the ideal location for a new establishment in the city of Amsterdam, one of the most frequently visited cities in Europe, and to identify what type of establishment (Indian restaurant, beer bar, etc.) would likely be most successful."
   ]
  },
  {
   "cell_type": "markdown",
   "metadata": {},
   "source": [
    "# Data"
   ]
  },
  {
   "cell_type": "markdown",
   "metadata": {},
   "source": [
    "Because the city of Amsterdam is large and because most tourist activity occurs in the city centre, only that area has been analysed, which is defined by the Amsterdam-Centrum borough (which can be found here: https://nl.wikipedia.org/wiki/Amsterdam-Centrum). It is subdivided into 9 neighbourhoods. Data about venues in each neighbourhood have been obtained via the Foursquare API. For each neighbourhood, the most popular venues have been retrieved, along with the venue categories they belong to. This results in a list containing the number of venues in a particular category, in a particular neighbourhood. This can then be used to identify ‘gaps’ in neighbourhoods, i.e. a low number of venues in a particular category when compared to other neighbourhoods, which indicate potential for the success of new establishment. "
   ]
  }
 ],
 "metadata": {
  "kernelspec": {
   "display_name": "Python 3",
   "language": "python",
   "name": "python3"
  },
  "language_info": {
   "codemirror_mode": {
    "name": "ipython",
    "version": 3
   },
   "file_extension": ".py",
   "mimetype": "text/x-python",
   "name": "python",
   "nbconvert_exporter": "python",
   "pygments_lexer": "ipython3",
   "version": "3.7.1"
  }
 },
 "nbformat": 4,
 "nbformat_minor": 4
}
