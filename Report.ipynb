{
 "cells": [
  {
   "cell_type": "markdown",
   "metadata": {},
   "source": [
    "# Introduction"
   ]
  },
  {
   "cell_type": "markdown",
   "metadata": {},
   "source": [
    "Although the outbreak of covid-19 has forced many establishments in the hospitality sector out of business, the recent arrival of vaccines has made the sector’s future look a lot more promising – if regulations go back to normal, there could be a rush among entrepreneurs to fill the gaps left behind by the restaurants and cafés that had to shut down due to the pandemic. This report aims to identify the ideal location for a new establishment in the city of Amsterdam, one of the most frequently visited cities in Europe, and to identify what type of establishment (Indian restaurant, beer bar, etc.) would likely be most successful."
   ]
  },
  {
   "cell_type": "markdown",
   "metadata": {},
   "source": [
    "# Data"
   ]
  },
  {
   "cell_type": "markdown",
   "metadata": {},
   "source": [
    "Because the city of Amsterdam is large and because most tourist activity occurs in the city centre, only that area has been analysed, which is defined by the Amsterdam-Centrum borough (which can be found here: https://nl.wikipedia.org/wiki/Amsterdam-Centrum). It is subdivided into 9 neighbourhoods. Data about venues in each neighbourhood have been obtained via the Foursquare API. For each neighbourhood, the most popular venues have been retrieved, along with the venue categories they belong to. "
   ]
  },
  {
   "cell_type": "markdown",
   "metadata": {},
   "source": [
    "# Methodology"
   ]
  },
  {
   "cell_type": "markdown",
   "metadata": {},
   "source": [
    "Once the data was obtained, the data was filtered so that only venues in the hospitality sector were used in the analysis. Then, a list was made containing the number of venues in a particular category, in a particular neighbourhood. This was used to identify whether there were ‘gaps’ in a neighbourhoods' hospitality sector, i.e. whether a neighbourhood had a low number of venues in a particular category compared to other neighbourhoods. The total number of venues in a neighbourhood will also play a role in the success of a new establishment, because the competition is obvioulsy higher the more competing venues there are, as does the spread of the venues across the different categories. For example, a neighbourhood with many venues might not be appealing to an entrpreneur wishing to establish a restaurant in the area. But if the area has a comparetively low number of Asian restaurants, a Japanese restaurant might do well in that neighbourhood. Therefore, these numbers have also been extracted from the data set. Finally, using Folium, some venues were mapped to show areas with a low concentration of establishments."
   ]
  },
  {
   "cell_type": "markdown",
   "metadata": {},
   "source": [
    "# Results"
   ]
  },
  {
   "cell_type": "markdown",
   "metadata": {},
   "source": [
    "### Popular Neighbourhoods"
   ]
  },
  {
   "cell_type": "markdown",
   "metadata": {},
   "source": []
  }
 ],
 "metadata": {
  "kernelspec": {
   "display_name": "Python 3",
   "language": "python",
   "name": "python3"
  },
  "language_info": {
   "codemirror_mode": {
    "name": "ipython",
    "version": 3
   },
   "file_extension": ".py",
   "mimetype": "text/x-python",
   "name": "python",
   "nbconvert_exporter": "python",
   "pygments_lexer": "ipython3",
   "version": "3.7.1"
  }
 },
 "nbformat": 4,
 "nbformat_minor": 4
}
